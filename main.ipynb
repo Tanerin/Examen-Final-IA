{
 "cells": [
  {
   "cell_type": "markdown",
   "metadata": {},
   "source": [
    "# <center> LINEAR CLASSIFICATION </center>"
   ]
  },
  {
   "cell_type": "code",
   "execution_count": 123,
   "metadata": {},
   "outputs": [
    {
     "name": "stderr",
     "output_type": "stream",
     "text": [
      "2021-12-05 13:08:19.170069: W tensorflow/stream_executor/platform/default/dso_loader.cc:64] Could not load dynamic library 'libcudart.so.11.0'; dlerror: libcudart.so.11.0: cannot open shared object file: No such file or directory\n",
      "2021-12-05 13:08:19.170091: I tensorflow/stream_executor/cuda/cudart_stub.cc:29] Ignore above cudart dlerror if you do not have a GPU set up on your machine.\n"
     ]
    }
   ],
   "source": [
    "import numpy as np\n",
    "import matplotlib.pyplot as plt\n",
    "import pandas as pd\n",
    "import matplotlib.pyplot as plt\n",
    "import seaborn as sns\n",
    "import plotly.express as px\n",
    "from random import shuffle\n",
    "from sklearn import preprocessing\n",
    "from sklearn.preprocessing import MinMaxScaler\n",
    "from sklearn.linear_model import LogisticRegression\n",
    "from sklearn.model_selection import train_test_split\n",
    "from sklearn.model_selection import KFold\n",
    "from sklearn.model_selection import cross_val_score\n",
    "from sklearn.metrics import confusion_matrix\n",
    "from sklearn.metrics import classification_report\n",
    "from keras import models\n",
    "from keras import layers\n",
    "from keras.wrappers.scikit_learn import KerasClassifier"
   ]
  },
  {
   "cell_type": "markdown",
   "metadata": {},
   "source": [
    "## Getting training data\n",
    "\n",
    "Data source: https://www.kaggle.com/fedesoriano/stroke-prediction-dataset\n",
    "\n",
    "This data it's for predicting stroke events from several patients"
   ]
  },
  {
   "cell_type": "code",
   "execution_count": 3,
   "metadata": {},
   "outputs": [
    {
     "data": {
      "text/html": [
       "<div>\n",
       "<style scoped>\n",
       "    .dataframe tbody tr th:only-of-type {\n",
       "        vertical-align: middle;\n",
       "    }\n",
       "\n",
       "    .dataframe tbody tr th {\n",
       "        vertical-align: top;\n",
       "    }\n",
       "\n",
       "    .dataframe thead th {\n",
       "        text-align: right;\n",
       "    }\n",
       "</style>\n",
       "<table border=\"1\" class=\"dataframe\">\n",
       "  <thead>\n",
       "    <tr style=\"text-align: right;\">\n",
       "      <th></th>\n",
       "      <th>id</th>\n",
       "      <th>gender</th>\n",
       "      <th>age</th>\n",
       "      <th>hypertension</th>\n",
       "      <th>heart_disease</th>\n",
       "      <th>ever_married</th>\n",
       "      <th>work_type</th>\n",
       "      <th>Residence_type</th>\n",
       "      <th>avg_glucose_level</th>\n",
       "      <th>bmi</th>\n",
       "      <th>smoking_status</th>\n",
       "      <th>stroke</th>\n",
       "    </tr>\n",
       "  </thead>\n",
       "  <tbody>\n",
       "    <tr>\n",
       "      <th>0</th>\n",
       "      <td>9046</td>\n",
       "      <td>Male</td>\n",
       "      <td>67.0</td>\n",
       "      <td>0</td>\n",
       "      <td>1</td>\n",
       "      <td>Yes</td>\n",
       "      <td>Private</td>\n",
       "      <td>Urban</td>\n",
       "      <td>228.69</td>\n",
       "      <td>36.6</td>\n",
       "      <td>formerly smoked</td>\n",
       "      <td>1</td>\n",
       "    </tr>\n",
       "    <tr>\n",
       "      <th>1</th>\n",
       "      <td>51676</td>\n",
       "      <td>Female</td>\n",
       "      <td>61.0</td>\n",
       "      <td>0</td>\n",
       "      <td>0</td>\n",
       "      <td>Yes</td>\n",
       "      <td>Self-employed</td>\n",
       "      <td>Rural</td>\n",
       "      <td>202.21</td>\n",
       "      <td>NaN</td>\n",
       "      <td>never smoked</td>\n",
       "      <td>1</td>\n",
       "    </tr>\n",
       "    <tr>\n",
       "      <th>2</th>\n",
       "      <td>31112</td>\n",
       "      <td>Male</td>\n",
       "      <td>80.0</td>\n",
       "      <td>0</td>\n",
       "      <td>1</td>\n",
       "      <td>Yes</td>\n",
       "      <td>Private</td>\n",
       "      <td>Rural</td>\n",
       "      <td>105.92</td>\n",
       "      <td>32.5</td>\n",
       "      <td>never smoked</td>\n",
       "      <td>1</td>\n",
       "    </tr>\n",
       "    <tr>\n",
       "      <th>3</th>\n",
       "      <td>60182</td>\n",
       "      <td>Female</td>\n",
       "      <td>49.0</td>\n",
       "      <td>0</td>\n",
       "      <td>0</td>\n",
       "      <td>Yes</td>\n",
       "      <td>Private</td>\n",
       "      <td>Urban</td>\n",
       "      <td>171.23</td>\n",
       "      <td>34.4</td>\n",
       "      <td>smokes</td>\n",
       "      <td>1</td>\n",
       "    </tr>\n",
       "    <tr>\n",
       "      <th>4</th>\n",
       "      <td>1665</td>\n",
       "      <td>Female</td>\n",
       "      <td>79.0</td>\n",
       "      <td>1</td>\n",
       "      <td>0</td>\n",
       "      <td>Yes</td>\n",
       "      <td>Self-employed</td>\n",
       "      <td>Rural</td>\n",
       "      <td>174.12</td>\n",
       "      <td>24.0</td>\n",
       "      <td>never smoked</td>\n",
       "      <td>1</td>\n",
       "    </tr>\n",
       "  </tbody>\n",
       "</table>\n",
       "</div>"
      ],
      "text/plain": [
       "      id  gender   age  hypertension  heart_disease ever_married  \\\n",
       "0   9046    Male  67.0             0              1          Yes   \n",
       "1  51676  Female  61.0             0              0          Yes   \n",
       "2  31112    Male  80.0             0              1          Yes   \n",
       "3  60182  Female  49.0             0              0          Yes   \n",
       "4   1665  Female  79.0             1              0          Yes   \n",
       "\n",
       "       work_type Residence_type  avg_glucose_level   bmi   smoking_status  \\\n",
       "0        Private          Urban             228.69  36.6  formerly smoked   \n",
       "1  Self-employed          Rural             202.21   NaN     never smoked   \n",
       "2        Private          Rural             105.92  32.5     never smoked   \n",
       "3        Private          Urban             171.23  34.4           smokes   \n",
       "4  Self-employed          Rural             174.12  24.0     never smoked   \n",
       "\n",
       "   stroke  \n",
       "0       1  \n",
       "1       1  \n",
       "2       1  \n",
       "3       1  \n",
       "4       1  "
      ]
     },
     "execution_count": 3,
     "metadata": {},
     "output_type": "execute_result"
    }
   ],
   "source": [
    "# data = pd.read_excel('admision.xlsx')\n",
    "data = pd.read_csv('Data/stroke-data.csv')\n",
    "data.head()"
   ]
  },
  {
   "cell_type": "code",
   "execution_count": 29,
   "metadata": {},
   "outputs": [
    {
     "name": "stdout",
     "output_type": "stream",
     "text": [
      "(20, 5110)\n"
     ]
    }
   ],
   "source": [
    "#We need hot encode the text data\n",
    "dummie_data=pd.get_dummies(data, prefix_sep=\"_\", dummy_na=False, columns=['work_type','smoking_status','Residence_type','gender','ever_married'])\n",
    "#We drop all the columns we don't need on the input data\n",
    "dummie_data.drop(['bmi','id','stroke'], axis=1, inplace=True)\n",
    "dummie_data.head()\n",
    "\n"
   ]
  },
  {
   "cell_type": "markdown",
   "metadata": {},
   "source": [
    "## Extracting data\n"
   ]
  },
  {
   "cell_type": "code",
   "execution_count": 64,
   "metadata": {},
   "outputs": [
    {
     "name": "stdout",
     "output_type": "stream",
     "text": [
      "(5110, 20)\n",
      "(5110, 1)\n",
      "(249, 1)\n",
      "(4861, 1)\n"
     ]
    }
   ],
   "source": [
    "# Formating the data \n",
    "\n",
    "x_data = dummie_data.to_numpy()\n",
    "print(x_data.shape)\n",
    "y_data = np.array([data['stroke'].values.tolist()]).T\n",
    "print(y_data.shape)\n",
    "\n",
    "pos_idx = (y_data == 1)\n",
    "neg_idx = (y_data == 0)\n",
    "\n",
    "y_pos = np.array([y_data[pos_idx]]).T\n",
    "y_neg = np.array([y_data[neg_idx]]).T\n",
    "\n",
    "print(y_pos.shape)\n",
    "print(y_neg.shape)\n",
    "\n",
    "# Normalize data\n",
    "\n",
    "x_scaler = MinMaxScaler()\n",
    "y_scaler = MinMaxScaler()\n",
    "x_scaler= x_scaler.fit(x_data)\n",
    "x_nom = x_scaler.transform(x_data)\n",
    "y_scaler= y_scaler.fit(y_data)\n",
    "y_nom = y_scaler.transform(y_data)"
   ]
  },
  {
   "cell_type": "markdown",
   "metadata": {},
   "source": [
    "# Visualizie the data"
   ]
  },
  {
   "cell_type": "code",
   "execution_count": null,
   "metadata": {},
   "outputs": [],
   "source": []
  },
  {
   "cell_type": "markdown",
   "metadata": {},
   "source": [
    "# Logistic Regresion"
   ]
  },
  {
   "cell_type": "code",
   "execution_count": 122,
   "metadata": {},
   "outputs": [
    {
     "name": "stdout",
     "output_type": "stream",
     "text": [
      "Accuracy: 73.933% (1.699%)\n",
      "           Predicted_No_Stroke  Predicted_Stroke\n",
      "No_stroke                 1074               372\n",
      "Stroke                      19                68\n",
      "              precision    recall  f1-score   support\n",
      "\n",
      "         0.0       0.98      0.74      0.85      1446\n",
      "         1.0       0.15      0.78      0.26        87\n",
      "\n",
      "    accuracy                           0.74      1533\n",
      "   macro avg       0.57      0.76      0.55      1533\n",
      "weighted avg       0.94      0.74      0.81      1533\n",
      "\n"
     ]
    }
   ],
   "source": [
    "# Spliting the data for the cross validation\n",
    "kf = KFold(n_splits=10, shuffle=True)\n",
    "# Making the logistic Regression model\n",
    "classifier = LogisticRegression(random_state=101, class_weight='balanced')\n",
    "# Training the model whith cross validation\n",
    "results = cross_val_score(classifier, x_nom, np.ravel(y_nom,order='C'), cv=kf)\n",
    "print(\"Accuracy: %.3f%% (%.3f%%)\" % (results.mean()*100.0, results.std()*100.0))\n",
    "# Making a prediction\n",
    "x_train, x_test, y_train, y_test = train_test_split(x_nom, y_nom, random_state=101, test_size=0.3)\n",
    "classifier.fit(x_train, np.ravel(y_train,order='C'))\n",
    "predicted_y = classifier.predict(x_test)\n",
    "# Making the confusion matrix\n",
    "matrix = confusion_matrix(y_test, predicted_y)\n",
    "# Transforming the confusion matrix to a dataframe for export\n",
    "confmtrx = np.array(matrix)\n",
    "confdt=pd.DataFrame(confmtrx, index=['No_stroke','Stroke'],\n",
    "columns=['Predicted_No_Stroke', 'Predicted_Stroke', ])\n",
    "print(confdt.head())\n",
    "#Generating the report\n",
    "report = classification_report(y_test, predicted_y)\n",
    "print(report)\n"
   ]
  },
  {
   "cell_type": "markdown",
   "metadata": {},
   "source": [
    "# Neuronal Network"
   ]
  },
  {
   "cell_type": "code",
   "execution_count": 138,
   "metadata": {},
   "outputs": [
    {
     "name": "stderr",
     "output_type": "stream",
     "text": [
      "/home/ulises/anaconda3/envs/ia37/lib/python3.7/site-packages/ipykernel_launcher.py:26: DeprecationWarning: KerasClassifier is deprecated, use Sci-Keras (https://github.com/adriangb/scikeras) instead.\n"
     ]
    },
    {
     "name": "stdout",
     "output_type": "stream",
     "text": [
      "Accuracy: 95.127% (0.841%)\n"
     ]
    }
   ],
   "source": [
    "def create_network():\n",
    "    \n",
    "    # Start neural network\n",
    "    network = models.Sequential()\n",
    "\n",
    "    # Add fully connected layer with a ReLU activation function\n",
    "    network.add(layers.Dense(units=20, activation='relu', input_shape=(20,)))\n",
    "\n",
    "    # Add fully connected layer with a ReLU activation function\n",
    "    network.add(layers.Dense(units=16, activation='relu'))\n",
    "\n",
    "    # Add fully connected layer with a sigmoid activation function\n",
    "    network.add(layers.Dense(units=1, activation='sigmoid'))\n",
    "\n",
    "    # Compile neural network\n",
    "    network.compile(loss='binary_crossentropy', # Cross-entropy\n",
    "                    optimizer='rmsprop', # Root Mean Square Propagation\n",
    "                    metrics=['accuracy']) # Accuracy performance metric\n",
    "    \n",
    "    # Return compiled network\n",
    "    return network\n",
    "# Wrap keras model for scikit-learn\n",
    "neural_network = KerasClassifier(build_fn=create_network, \n",
    "                                 epochs=10, \n",
    "                                 batch_size=100, \n",
    "                                 verbose=0)\n",
    "# Making the 10 splits for the cross- validation\n",
    "kf2 = KFold(n_splits=10, shuffle=True)\n",
    "# Evaluate the neuronal network \n",
    "resultsn = cross_val_score(neural_network, x_nom, np.ravel(y_nom,order='C'), cv=kf2)\n",
    "print(\"Accuracy: %.3f%% (%.3f%%)\" % (resultsn.mean()*100.0, resultsn.std()*100.0))\n"
   ]
  },
  {
   "cell_type": "markdown",
   "metadata": {},
   "source": [
    "# Evaluation of the Neuronal Network"
   ]
  },
  {
   "cell_type": "code",
   "execution_count": 142,
   "metadata": {},
   "outputs": [
    {
     "name": "stdout",
     "output_type": "stream",
     "text": [
      "           Predicted_No_Stroke  Predicted_Stroke\n",
      "No_stroke                 1074               372\n",
      "Stroke                      19                68\n",
      "              precision    recall  f1-score   support\n",
      "\n",
      "         0.0       0.94      1.00      0.97      1446\n",
      "         1.0       0.00      0.00      0.00        87\n",
      "\n",
      "    accuracy                           0.94      1533\n",
      "   macro avg       0.47      0.50      0.49      1533\n",
      "weighted avg       0.89      0.94      0.92      1533\n",
      "\n"
     ]
    },
    {
     "name": "stderr",
     "output_type": "stream",
     "text": [
      "/home/ulises/anaconda3/envs/ia37/lib/python3.7/site-packages/sklearn/metrics/_classification.py:1308: UndefinedMetricWarning: Precision and F-score are ill-defined and being set to 0.0 in labels with no predicted samples. Use `zero_division` parameter to control this behavior.\n",
      "  _warn_prf(average, modifier, msg_start, len(result))\n",
      "/home/ulises/anaconda3/envs/ia37/lib/python3.7/site-packages/sklearn/metrics/_classification.py:1308: UndefinedMetricWarning: Precision and F-score are ill-defined and being set to 0.0 in labels with no predicted samples. Use `zero_division` parameter to control this behavior.\n",
      "  _warn_prf(average, modifier, msg_start, len(result))\n",
      "/home/ulises/anaconda3/envs/ia37/lib/python3.7/site-packages/sklearn/metrics/_classification.py:1308: UndefinedMetricWarning: Precision and F-score are ill-defined and being set to 0.0 in labels with no predicted samples. Use `zero_division` parameter to control this behavior.\n",
      "  _warn_prf(average, modifier, msg_start, len(result))\n"
     ]
    }
   ],
   "source": [
    "# Split the data\n",
    "x_train, x_test, y_train, y_test = train_test_split(x_nom, y_nom, random_state=101, test_size=0.3)\n",
    "# Working with the neuronal network like a sklearn model\n",
    "neural_network.fit(x_train, y_train)\n",
    "predicted_yn = neural_network.predict(x_test)\n",
    "# Making the confusion matrix\n",
    "matrixn = confusion_matrix(y_test, predicted_yn)\n",
    "# Transforming the confusion matrix to a dataframe for export\n",
    "confmtrxn = np.array(matrixn)\n",
    "confdtn=pd.DataFrame(confmtrxn, index=['No_stroke','Stroke'],\n",
    "columns=['Predicted_No_Stroke', 'Predicted_Stroke', ])\n",
    "print(confdt.head())\n",
    "#Generating the report\n",
    "report = classification_report(y_test, predicted_yn)\n",
    "print(report)\n"
   ]
  }
 ],
 "metadata": {
  "kernelspec": {
   "display_name": "Python 3",
   "language": "python",
   "name": "python3"
  },
  "language_info": {
   "codemirror_mode": {
    "name": "ipython",
    "version": 3
   },
   "file_extension": ".py",
   "mimetype": "text/x-python",
   "name": "python",
   "nbconvert_exporter": "python",
   "pygments_lexer": "ipython3",
   "version": "3.7.11"
  }
 },
 "nbformat": 4,
 "nbformat_minor": 2
}
